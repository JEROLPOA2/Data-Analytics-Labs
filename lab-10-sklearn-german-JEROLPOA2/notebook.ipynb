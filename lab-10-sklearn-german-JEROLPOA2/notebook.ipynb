{
  "cells": [
    {
      "cell_type": "code",
      "execution_count": 20,
      "metadata": {
        "colab": {
          "base_uri": "https://localhost:8080/"
        },
        "id": "x_0Q0JPelM9J",
        "outputId": "c4c2bf11-a526-4552-f96b-4ad634c2ab31"
      },
      "outputs": [
        {
          "name": "stdout",
          "output_type": "stream",
          "text": [
            "checking_balance        object\n",
            "months_loan_duration     int64\n",
            "credit_history          object\n",
            "purpose                 object\n",
            "amount                   int64\n",
            "savings_balance         object\n",
            "employment_length       object\n",
            "installment_rate         int64\n",
            "personal_status         object\n",
            "other_debtors           object\n",
            "residence_history        int64\n",
            "property                object\n",
            "age                      int64\n",
            "installment_plan        object\n",
            "housing                 object\n",
            "existing_credits         int64\n",
            "default                  int64\n",
            "dependents               int64\n",
            "telephone               object\n",
            "foreign_worker          object\n",
            "job                     object\n",
            "dtype: object\n",
            "checking_balance        object\n",
            "months_loan_duration     int64\n",
            "credit_history          object\n",
            "purpose                 object\n",
            "amount                   int64\n",
            "savings_balance         object\n",
            "employment_length       object\n",
            "installment_rate         int64\n",
            "personal_status         object\n",
            "other_debtors           object\n",
            "residence_history        int64\n",
            "property                object\n",
            "age                      int64\n",
            "installment_plan        object\n",
            "housing                 object\n",
            "existing_credits         int64\n",
            "default                  int64\n",
            "dependents               int64\n",
            "telephone               object\n",
            "foreign_worker          object\n",
            "job                     object\n",
            "dtype: object\n"
          ]
        }
      ],
      "source": [
        "import pandas as pd\n",
        "import numpy as np\n",
        "from sklearn.preprocessing import LabelEncoder\n",
        "from sklearn.model_selection import train_test_split\n",
        "from sklearn.preprocessing import StandardScaler\n",
        "from sklearn.metrics import classification_report, confusion_matrix\n",
        "from sklearn.ensemble import RandomForestClassifier\n",
        "from sklearn.metrics import accuracy_score\n",
        "\n",
        "# Paso 1: Cargar el dataset\n",
        "df_train = pd.read_csv('train_dataset.csv')\n",
        "df_test = pd.read_csv('test_dataset.csv')\n",
        "\n",
        "# Paso 2: Preprocesamiento\n",
        "# 2.1 Manejo de valores nulos\n",
        "df_train = df_train.dropna()\n",
        "df_test = df_test.dropna()\n",
        "\n",
        "print(df_train.dtypes)\n",
        "print(df_test.dtypes)\n",
        "\n"
      ]
    },
    {
      "cell_type": "code",
      "execution_count": 68,
      "metadata": {
        "colab": {
          "base_uri": "https://localhost:8080/"
        },
        "id": "XfIlGhjnlk6v",
        "outputId": "e8979fbe-ba25-4288-9cf6-e8008615cea3"
      },
      "outputs": [
        {
          "name": "stdout",
          "output_type": "stream",
          "text": [
            "Accuracy en Train: 1.00\n",
            "Accuracy en Train: 0.78\n"
          ]
        }
      ],
      "source": [
        "categorical_columns = [col for col in df_train.columns if\n",
        "                       df_train[col].dtype == 'object']\n",
        "\n",
        "\n",
        "label_encoder = LabelEncoder()\n",
        "\n",
        "for col in categorical_columns:\n",
        "    df_train[col] = label_encoder.fit_transform(df_train[col])\n",
        "    df_test[col] = label_encoder.fit_transform(df_test[col])\n",
        "\n",
        "# Paso 3: Separar variables independientes y dependiente\n",
        "X_train = df_train.drop('default', axis=1)\n",
        "y_train = df_train['default']\n",
        "\n",
        "X_test = df_test.drop('default', axis=1)\n",
        "y_test = df_test['default']\n",
        "\n",
        "# Paso 5: Escalar características\n",
        "scaler = StandardScaler()\n",
        "X_train = scaler.fit_transform(X_train)\n",
        "X_test = scaler.transform(X_test)\n",
        "\n",
        "# Paso 6: Entrenar el modelo\n",
        "model = RandomForestClassifier(n_estimators=100, random_state=20, min_samples_leaf=1, min_samples_split=3, criterion='entropy')\n",
        "model.fit(X_train, y_train)\n",
        "\n",
        "# Paso 7: Evaluar el modelo\n",
        "y_pred_train = model.predict(X_train)\n",
        "y_pred_test = model.predict(X_test)\n",
        "\n",
        "# Imprimir el accuracy en el conjunto de entrenamiento\n",
        "train_accuracy = accuracy_score(y_true=y_train, y_pred=y_pred_train)\n",
        "print(f\"Accuracy en Train: {train_accuracy:.2f}\")\n",
        "\n",
        "# Imprimir el accuracy en el conjunto de prueba\n",
        "train_accuracy = accuracy_score(y_true=y_test, y_pred=y_pred_test)\n",
        "print(f\"Accuracy en Train: {train_accuracy:.2f}\")"
      ]
    },
    {
      "cell_type": "code",
      "execution_count": 69,
      "metadata": {
        "id": "Nc8qycyvn4vM"
      },
      "outputs": [],
      "source": [
        "import pickle\n",
        "\n",
        "# Guardar el modelo en un archivo pickle\n",
        "with open('model.pkl', 'wb') as file:\n",
        "    pickle.dump(model, file)"
      ]
    }
  ],
  "metadata": {
    "colab": {
      "provenance": []
    },
    "kernelspec": {
      "display_name": "Python 3",
      "name": "python3"
    },
    "language_info": {
      "codemirror_mode": {
        "name": "ipython",
        "version": 3
      },
      "file_extension": ".py",
      "mimetype": "text/x-python",
      "name": "python",
      "nbconvert_exporter": "python",
      "pygments_lexer": "ipython3",
      "version": "3.10.0"
    }
  },
  "nbformat": 4,
  "nbformat_minor": 0
}
